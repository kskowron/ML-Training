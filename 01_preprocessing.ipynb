{
  "nbformat": 4,
  "nbformat_minor": 0,
  "metadata": {
    "colab": {
      "provenance": [],
      "authorship_tag": "ABX9TyP0C3mOvxzgIrKrkWMmv+l6",
      "include_colab_link": true
    },
    "kernelspec": {
      "name": "python3",
      "display_name": "Python 3"
    },
    "language_info": {
      "name": "python"
    }
  },
  "cells": [
    {
      "cell_type": "markdown",
      "metadata": {
        "id": "view-in-github",
        "colab_type": "text"
      },
      "source": [
        "<a href=\"https://colab.research.google.com/github/kskowron/ML-Training/blob/main/01_preprocessing.ipynb\" target=\"_parent\"><img src=\"https://colab.research.google.com/assets/colab-badge.svg\" alt=\"Open In Colab\"/></a>"
      ]
    },
    {
      "cell_type": "markdown",
      "source": [
        "# Import bibliotek"
      ],
      "metadata": {
        "id": "s-PgAqX1nzLj"
      }
    },
    {
      "cell_type": "code",
      "source": [
        "import numpy as np\n",
        "import pandas as pd\n",
        "import sklearn\n",
        "import sys\n"
      ],
      "metadata": {
        "colab": {
          "base_uri": "https://localhost:8080/"
        },
        "id": "ZIrZ2NK8nJRB",
        "outputId": "0ac93787-9188-4c14-c4fc-a5a4ac4a68ff"
      },
      "execution_count": 5,
      "outputs": [
        {
          "output_type": "stream",
          "name": "stdout",
          "text": [
            "3.11.12 (main, Apr  9 2025, 08:55:54) [GCC 11.4.0]\n"
          ]
        }
      ]
    },
    {
      "cell_type": "markdown",
      "source": [
        "# Generowanie danych"
      ],
      "metadata": {
        "id": "Du2vsDwtn-Rr"
      }
    },
    {
      "cell_type": "code",
      "source": [
        "data = {\n",
        "    \"size\":[\"XL\", \"L\", \"M\", \"L\", \"M\"],\n",
        "    \"color\":[\"red\", \"green\",\"blue\",\"green\",\"red\"],\n",
        "    \"gender\":[\"female\",\"male\",\"male\",\"female\",\"female\"],\n",
        "    \"price\":[199.0, 89.0, 99.0,129.0,79.0],\n",
        "    \"weight\":[500,450,300,380,410],\n",
        "    \"bought\":[\"yes\",\"no\",\"yes\",\"no\",\"yes\"]\n",
        "    }"
      ],
      "metadata": {
        "id": "EZo0zhJKoErC"
      },
      "execution_count": null,
      "outputs": []
    },
    {
      "cell_type": "code",
      "source": [],
      "metadata": {
        "id": "tm8hJRESn9ys"
      },
      "execution_count": null,
      "outputs": []
    }
  ]
}